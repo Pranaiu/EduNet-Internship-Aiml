{
  "cells": [
    {
      "cell_type": "markdown",
      "metadata": {
        "id": "view-in-github",
        "colab_type": "text"
      },
      "source": [
        "<a href=\"https://colab.research.google.com/github/Pranaiu/EduNet-Internship-Aiml/blob/main/Week_1_Assignment.ipynb\" target=\"_parent\"><img src=\"https://colab.research.google.com/assets/colab-badge.svg\" alt=\"Open In Colab\"/></a>"
      ]
    },
    {
      "cell_type": "code",
      "source": [
        "# Import necessary libraries\n",
        "import pandas as pd # data manipulation\n",
        "import numpy as np # numerical python - linear algebra\n",
        "\n",
        "from sklearn.multioutput import MultiOutputRegressor\n",
        "from sklearn.ensemble import RandomForestRegressor\n",
        "from sklearn.model_selection import train_test_split\n",
        "from sklearn.metrics import mean_squared_error, r2_score\n",
        "# load the dataset\n",
        "df = pd.read_csv('/content/afa2e701598d20110228.csv', sep=';')\n",
        "df\n",
        "df.info() # dataset info\n",
        "# rows and cols\n",
        "df.shape\n",
        "# Statistics of the data\n",
        "df.describe().T\n",
        "# Missing values\n",
        "df.isnull().sum()\n",
        "# date is in object - date format\n",
        "df['date'] = pd.to_datetime(df['date'], format='%d.%m.%Y')\n",
        "df\n",
        "df.info()\n",
        "df = df.sort_values(by=['id', 'date'])\n",
        "df.head()\n",
        "df['year'] = df['date'].dt.year\n",
        "df['month'] = df['date'].dt.month\n",
        "df.head()\n",
        "df.columns\n",
        "pollutants = ['O2', 'NO3', 'NO2', 'SO4',\n",
        "       'PO4', 'CL']"
      ],
      "metadata": {
        "colab": {
          "base_uri": "https://localhost:8080/"
        },
        "id": "bjtlfGrLvw7a",
        "outputId": "23e145d6-ee40-4f9e-e9ec-1df51ba6ca18"
      },
      "execution_count": null,
      "outputs": [
        {
          "output_type": "stream",
          "name": "stdout",
          "text": [
            "<class 'pandas.core.frame.DataFrame'>\n",
            "RangeIndex: 2861 entries, 0 to 2860\n",
            "Data columns (total 11 columns):\n",
            " #   Column     Non-Null Count  Dtype  \n",
            "---  ------     --------------  -----  \n",
            " 0   id         2861 non-null   int64  \n",
            " 1   date       2861 non-null   object \n",
            " 2   NH4        2858 non-null   float64\n",
            " 3   BSK5       2860 non-null   float64\n",
            " 4   Suspended  2845 non-null   float64\n",
            " 5   O2         2858 non-null   float64\n",
            " 6   NO3        2860 non-null   float64\n",
            " 7   NO2        2858 non-null   float64\n",
            " 8   SO4        2812 non-null   float64\n",
            " 9   PO4        2833 non-null   float64\n",
            " 10  CL         2812 non-null   float64\n",
            "dtypes: float64(9), int64(1), object(1)\n",
            "memory usage: 246.0+ KB\n",
            "<class 'pandas.core.frame.DataFrame'>\n",
            "RangeIndex: 2861 entries, 0 to 2860\n",
            "Data columns (total 11 columns):\n",
            " #   Column     Non-Null Count  Dtype         \n",
            "---  ------     --------------  -----         \n",
            " 0   id         2861 non-null   int64         \n",
            " 1   date       2861 non-null   datetime64[ns]\n",
            " 2   NH4        2858 non-null   float64       \n",
            " 3   BSK5       2860 non-null   float64       \n",
            " 4   Suspended  2845 non-null   float64       \n",
            " 5   O2         2858 non-null   float64       \n",
            " 6   NO3        2860 non-null   float64       \n",
            " 7   NO2        2858 non-null   float64       \n",
            " 8   SO4        2812 non-null   float64       \n",
            " 9   PO4        2833 non-null   float64       \n",
            " 10  CL         2812 non-null   float64       \n",
            "dtypes: datetime64[ns](1), float64(9), int64(1)\n",
            "memory usage: 246.0 KB\n"
          ]
        }
      ]
    }
  ],
  "metadata": {
    "colab": {
      "provenance": [],
      "include_colab_link": true
    },
    "kernelspec": {
      "display_name": "Python 3",
      "name": "python3"
    }
  },
  "nbformat": 4,
  "nbformat_minor": 0
}
{
  "nbformat": 4,
  "nbformat_minor": 0,
  "metadata": {
    "colab": {
      "provenance": [],
      "authorship_tag": "ABX9TyO3sj8WsabLkJDDWn7nyetB",
      "include_colab_link": true
    },
    "kernelspec": {
      "name": "python3",
      "display_name": "Python 3"
    },
    "language_info": {
      "name": "python"
    }
  },
  "cells": [
    {
      "cell_type": "markdown",
      "metadata": {
        "id": "view-in-github",
        "colab_type": "text"
      },
      "source": [
        "<a href=\"https://colab.research.google.com/github/Pranaiu/EduNet-Internship-Aiml/blob/main/Final_Project.ipynb\" target=\"_parent\"><img src=\"https://colab.research.google.com/assets/colab-badge.svg\" alt=\"Open In Colab\"/></a>"
      ]
    },
    {
      "cell_type": "code",
      "execution_count": 2,
      "metadata": {
        "colab": {
          "base_uri": "https://localhost:8080/"
        },
        "id": "TOW_ax3EzqCp",
        "outputId": "abd718ad-48de-4177-bd61-8a430146f427"
      },
      "outputs": [
        {
          "output_type": "stream",
          "name": "stdout",
          "text": [
            "Model Performance on the Test Data:\n",
            "O2:\n",
            "   MSE: 22.21825046040189\n",
            "   R2: -0.01674257045728833\n",
            "\n",
            "NO3:\n",
            "   MSE: 18.153106746365886\n",
            "   R2: 0.5162032171220556\n",
            "\n",
            "NO2:\n",
            "   MSE: 10.607352172601502\n",
            "   R2: -78.42066512350873\n",
            "\n",
            "SO4:\n",
            "   MSE: 2412.139350033052\n",
            "   R2: 0.4118345603876148\n",
            "\n",
            "PO4:\n",
            "   MSE: 0.38496938017964155\n",
            "   R2: 0.3221189891402043\n",
            "\n",
            "CL:\n",
            "   MSE: 34882.81433245622\n",
            "   R2: 0.7357918194149974\n",
            "\n",
            "\n",
            "Predicted pollutant levels for station '22' in 2024:\n",
            "  O2: 12.60\n",
            "  NO3: 6.90\n",
            "  NO2: 0.13\n",
            "  SO4: 143.08\n",
            "  PO4: 0.50\n",
            "  CL: 67.33\n",
            "\n",
            "Model and column structure saved!\n"
          ]
        }
      ],
      "source": [
        "# pip install pandas numpy matplotlib seaborn scikit-learn joblib\n",
        "\n",
        "import pandas as pd\n",
        "import numpy as np\n",
        "from sklearn.multioutput import MultiOutputRegressor\n",
        "from sklearn.ensemble import RandomForestRegressor\n",
        "from sklearn.model_selection import train_test_split\n",
        "from sklearn.metrics import mean_squared_error, r2_score\n",
        "import joblib\n",
        "\n",
        "# Load dataset\n",
        "df = pd.read_csv('/content/afa2e701598d20110228.csv', sep=';')\n",
        "\n",
        "# Convert date to datetime\n",
        "df['date'] = pd.to_datetime(df['date'], format='%d.%m.%Y')\n",
        "\n",
        "# Sort by id and date\n",
        "df = df.sort_values(by=['id', 'date'])\n",
        "\n",
        "# Extract year and month\n",
        "df['year'] = df['date'].dt.year\n",
        "df['month'] = df['date'].dt.month\n",
        "\n",
        "# Drop rows with missing target pollutant values\n",
        "pollutants = ['O2', 'NO3', 'NO2', 'SO4', 'PO4', 'CL']\n",
        "df = df.dropna(subset=pollutants)\n",
        "\n",
        "# Define features and target\n",
        "X = df[['id', 'year']]\n",
        "y = df[pollutants]\n",
        "\n",
        "# Encode station ID using one-hot encoding\n",
        "X_encoded = pd.get_dummies(X, columns=['id'], drop_first=True)\n",
        "\n",
        "# Split into train and test sets\n",
        "X_train, X_test, y_train, y_test = train_test_split(\n",
        "    X_encoded, y, test_size=0.2, random_state=42\n",
        ")\n",
        "\n",
        "# Train the model\n",
        "model = MultiOutputRegressor(RandomForestRegressor(n_estimators=100, random_state=42))\n",
        "model.fit(X_train, y_train)\n",
        "\n",
        "# Evaluate model\n",
        "y_pred = model.predict(X_test)\n",
        "print(\"Model Performance on the Test Data:\")\n",
        "for i, pollutant in enumerate(pollutants):\n",
        "    print(f'{pollutant}:')\n",
        "    print('   MSE:', mean_squared_error(y_test.iloc[:, i], y_pred[:, i]))\n",
        "    print('   R2:', r2_score(y_test.iloc[:, i], y_pred[:, i]))\n",
        "    print()\n",
        "\n",
        "# Prediction for a new input\n",
        "station_id = '22'\n",
        "year_input = 2024\n",
        "input_data = pd.DataFrame({'year': [year_input], 'id': [station_id]})\n",
        "input_encoded = pd.get_dummies(input_data, columns=['id'])\n",
        "\n",
        "# Ensure all required columns are present\n",
        "missing_cols = set(X_encoded.columns) - set(input_encoded.columns)\n",
        "for col in missing_cols:\n",
        "    input_encoded[col] = 0\n",
        "input_encoded = input_encoded[X_encoded.columns]  # match column order\n",
        "\n",
        "# Predict\n",
        "predicted_pollutants = model.predict(input_encoded)[0]\n",
        "print(f\"\\nPredicted pollutant levels for station '{station_id}' in {year_input}:\")\n",
        "for p, val in zip(pollutants, predicted_pollutants):\n",
        "    print(f\"  {p}: {val:.2f}\")\n",
        "\n",
        "# Save model and feature columns\n",
        "joblib.dump(model, 'pollution_model.pkl')\n",
        "joblib.dump(X_encoded.columns.tolist(), \"model_columns.pkl\")\n",
        "print('\\nModel and column structure saved!')\n"
      ]
    },
    {
      "cell_type": "code",
      "source": [
        "%%writefile app.py\n",
        "import pandas as pd\n",
        "import numpy as np\n",
        "import joblib\n",
        "import streamlit as st\n",
        "\n",
        "# Title and Description\n",
        "st.title(\"💧 Water Pollutants Predictor\")\n",
        "st.write(\"📊 Predict common water pollutant levels based on Year and Station ID using a pre-trained machine learning model.\")\n",
        "\n",
        "# Load the trained model and feature structure\n",
        "model = joblib.load(\"/content/afa2e701598d20110228.csv\")\n",
        "model_cols = joblib.load(\"/content/afa2e701598d20110228.csv\")\n",
        "\n",
        "# List of pollutant labels\n",
        "pollutants = ['O2', 'NO3', 'NO2', 'SO4', 'PO4', 'CL']\n",
        "\n",
        "# User Input Section\n",
        "st.sidebar.header(\"📥 Input Parameters\")\n",
        "year_input = st.sidebar.number_input(\"Enter Year\", min_value=2000, max_value=2100, value=2024)\n",
        "station_id = st.sidebar.text_input(\"Enter Station ID (e.g. '1', '5', '22')\", value='1')\n",
        "\n",
        "# Predict Button\n",
        "if st.sidebar.button('🔍 Predict'):\n",
        "    if not station_id.strip():\n",
        "        st.warning('⚠️ Please enter a valid Station ID')\n",
        "    else:\n",
        "        # Step 1: Prepare Input Data\n",
        "        input_df = pd.DataFrame({'year': [year_input], 'id': [station_id]})\n",
        "        input_encoded = pd.get_dummies(input_df, columns=['id'])\n",
        "\n",
        "        # Step 2: Align with model's training columns\n",
        "        missing_cols = set(model_cols) - set(input_encoded.columns)\n",
        "        for col in missing_cols:\n",
        "            input_encoded[col] = 0\n",
        "        input_encoded = input_encoded[model_cols]  # reorder to match training\n",
        "\n",
        "        # Step 3: Predict pollutant levels\n",
        "        predicted_pollutants = model.predict(input_encoded)[0]\n",
        "\n",
        "        # Step 4: Display results\n",
        "        st.subheader(f\"📡 Predicted pollutant levels for Station ID '{station_id}' in {year_input}:\")\n",
        "        result_dict = {p: round(val, 2) for p, val in zip(pollutants, predicted_pollutants)}\n",
        "        st.json(result_dict)\n"
      ],
      "metadata": {
        "colab": {
          "base_uri": "https://localhost:8080/"
        },
        "id": "sK4_3ZX11NJu",
        "outputId": "fad2d750-07ba-4ff1-d4e8-28dd279e9a8a"
      },
      "execution_count": 3,
      "outputs": [
        {
          "output_type": "stream",
          "name": "stdout",
          "text": [
            "Overwriting app.py\n"
          ]
        }
      ]
    }
  ]
}
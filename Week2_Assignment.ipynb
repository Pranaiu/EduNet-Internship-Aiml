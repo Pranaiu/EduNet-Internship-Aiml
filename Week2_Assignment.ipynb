{
  "nbformat": 4,
  "nbformat_minor": 0,
  "metadata": {
    "colab": {
      "provenance": [],
      "authorship_tag": "ABX9TyO1+5DI5+Td42rwFAuR+E1Z",
      "include_colab_link": true
    },
    "kernelspec": {
      "name": "python3",
      "display_name": "Python 3"
    },
    "language_info": {
      "name": "python"
    }
  },
  "cells": [
    {
      "cell_type": "markdown",
      "metadata": {
        "id": "view-in-github",
        "colab_type": "text"
      },
      "source": [
        "<a href=\"https://colab.research.google.com/github/Pranaiu/EduNet-Internship-Aiml/blob/main/Week2_Assignment.ipynb\" target=\"_parent\"><img src=\"https://colab.research.google.com/assets/colab-badge.svg\" alt=\"Open In Colab\"/></a>"
      ]
    },
    {
      "cell_type": "code",
      "execution_count": 1,
      "metadata": {
        "colab": {
          "base_uri": "https://localhost:8080/"
        },
        "id": "TOW_ax3EzqCp",
        "outputId": "296fd3a4-21d9-4c02-c1ad-b2b1dbcd78c6"
      },
      "outputs": [
        {
          "output_type": "stream",
          "name": "stdout",
          "text": [
            "Model Performance on the Test Data:\n",
            "O2:\n",
            "   MSE: 22.21825046040189\n",
            "   R2: -0.01674257045728833\n",
            "\n",
            "NO3:\n",
            "   MSE: 18.153106746365886\n",
            "   R2: 0.5162032171220556\n",
            "\n",
            "NO2:\n",
            "   MSE: 10.607352172601502\n",
            "   R2: -78.42066512350873\n",
            "\n",
            "SO4:\n",
            "   MSE: 2412.139350033052\n",
            "   R2: 0.4118345603876148\n",
            "\n",
            "PO4:\n",
            "   MSE: 0.38496938017964155\n",
            "   R2: 0.3221189891402043\n",
            "\n",
            "CL:\n",
            "   MSE: 34882.81433245622\n",
            "   R2: 0.7357918194149974\n",
            "\n",
            "\n",
            "Predicted pollutant levels for station '22' in 2024:\n",
            "  O2: 12.60\n",
            "  NO3: 6.90\n",
            "  NO2: 0.13\n",
            "  SO4: 143.08\n",
            "  PO4: 0.50\n",
            "  CL: 67.33\n",
            "\n",
            "Model and column structure saved!\n"
          ]
        }
      ],
      "source": [
        "# pip install pandas numpy matplotlib seaborn scikit-learn joblib\n",
        "\n",
        "import pandas as pd\n",
        "import numpy as np\n",
        "from sklearn.multioutput import MultiOutputRegressor\n",
        "from sklearn.ensemble import RandomForestRegressor\n",
        "from sklearn.model_selection import train_test_split\n",
        "from sklearn.metrics import mean_squared_error, r2_score\n",
        "import joblib\n",
        "\n",
        "# Load dataset\n",
        "df = pd.read_csv('/content/afa2e701598d20110228.csv', sep=';')\n",
        "\n",
        "# Convert date to datetime\n",
        "df['date'] = pd.to_datetime(df['date'], format='%d.%m.%Y')\n",
        "\n",
        "# Sort by id and date\n",
        "df = df.sort_values(by=['id', 'date'])\n",
        "\n",
        "# Extract year and month\n",
        "df['year'] = df['date'].dt.year\n",
        "df['month'] = df['date'].dt.month\n",
        "\n",
        "# Drop rows with missing target pollutant values\n",
        "pollutants = ['O2', 'NO3', 'NO2', 'SO4', 'PO4', 'CL']\n",
        "df = df.dropna(subset=pollutants)\n",
        "\n",
        "# Define features and target\n",
        "X = df[['id', 'year']]\n",
        "y = df[pollutants]\n",
        "\n",
        "# Encode station ID using one-hot encoding\n",
        "X_encoded = pd.get_dummies(X, columns=['id'], drop_first=True)\n",
        "\n",
        "# Split into train and test sets\n",
        "X_train, X_test, y_train, y_test = train_test_split(\n",
        "    X_encoded, y, test_size=0.2, random_state=42\n",
        ")\n",
        "\n",
        "# Train the model\n",
        "model = MultiOutputRegressor(RandomForestRegressor(n_estimators=100, random_state=42))\n",
        "model.fit(X_train, y_train)\n",
        "\n",
        "# Evaluate model\n",
        "y_pred = model.predict(X_test)\n",
        "print(\"Model Performance on the Test Data:\")\n",
        "for i, pollutant in enumerate(pollutants):\n",
        "    print(f'{pollutant}:')\n",
        "    print('   MSE:', mean_squared_error(y_test.iloc[:, i], y_pred[:, i]))\n",
        "    print('   R2:', r2_score(y_test.iloc[:, i], y_pred[:, i]))\n",
        "    print()\n",
        "\n",
        "# Prediction for a new input\n",
        "station_id = '22'\n",
        "year_input = 2024\n",
        "input_data = pd.DataFrame({'year': [year_input], 'id': [station_id]})\n",
        "input_encoded = pd.get_dummies(input_data, columns=['id'])\n",
        "\n",
        "# Ensure all required columns are present\n",
        "missing_cols = set(X_encoded.columns) - set(input_encoded.columns)\n",
        "for col in missing_cols:\n",
        "    input_encoded[col] = 0\n",
        "input_encoded = input_encoded[X_encoded.columns]  # match column order\n",
        "\n",
        "# Predict\n",
        "predicted_pollutants = model.predict(input_encoded)[0]\n",
        "print(f\"\\nPredicted pollutant levels for station '{station_id}' in {year_input}:\")\n",
        "for p, val in zip(pollutants, predicted_pollutants):\n",
        "    print(f\"  {p}: {val:.2f}\")\n",
        "\n",
        "# Save model and feature columns\n",
        "joblib.dump(model, 'pollution_model.pkl')\n",
        "joblib.dump(X_encoded.columns.tolist(), \"model_columns.pkl\")\n",
        "print('\\nModel and column structure saved!')\n"
      ]
    }
  ]
}